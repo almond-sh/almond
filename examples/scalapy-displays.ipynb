{
 "cells": [
  {
   "cell_type": "code",
   "execution_count": 1,
   "metadata": {
    
   },
   "outputs": [
    {
     "data": {
      "text/plain": [
       "\u001b[32mimport \u001b[39m\u001b[36m$ivy.$                                  \n",
       "\u001b[39m\n",
       "\u001b[32mimport \u001b[39m\u001b[36mai.kien.python.Python\n",
       "\n",
       "\u001b[39m"
      ]
     },
     "execution_count": 1,
     "metadata": {
      
     },
     "output_type": "execute_result"
    }
   ],
   "source": [
    "import $ivy.`ai.kien::python-native-libs:0.2.3`\n",
    "import ai.kien.python.Python\n",
    "\n",
    "Python().scalapyProperties.fold(\n",
    "  ex => throw new Exception(ex),\n",
    "  props => props.map { kv => println(kv); kv }.foreach(Function.tupled(System.setProperty _))\n",
    ")"
   ]
  },
  {
   "cell_type": "code",
   "execution_count": 2,
   "metadata": {
    
   },
   "outputs": [
    {
     "data": {
      "text/plain": [
       "\u001b[32mimport \u001b[39m\u001b[36m$ivy.$                              \n",
       "\u001b[39m\n",
       "\u001b[32mimport \u001b[39m\u001b[36mme.shadaj.scalapy.py\n",
       "\u001b[39m\n",
       "\u001b[32mimport \u001b[39m\u001b[36mme.shadaj.scalapy.py.PyQuote\n",
       "\u001b[39m\n",
       "\u001b[32mimport \u001b[39m\u001b[36mme.shadaj.scalapy.py.SeqConverters\u001b[39m"
      ]
     },
     "execution_count": 2,
     "metadata": {
      
     },
     "output_type": "execute_result"
    }
   ],
   "source": [
    "import $ivy.`me.shadaj::scalapy-core:0.5.2`\n",
    "import me.shadaj.scalapy.py\n",
    "import me.shadaj.scalapy.py.PyQuote\n",
    "import me.shadaj.scalapy.py.SeqConverters"
   ]
  },
  {
   "cell_type": "code",
   "execution_count": 3,
   "metadata": {
    
   },
   "outputs": [
    
   ],
   "source": [
    "almond.scalapy.initDisplay"
   ]
  },
  {
   "cell_type": "code",
   "execution_count": 4,
   "metadata": {
    
   },
   "outputs": [
    
   ],
   "source": [
    "// disable pprint so that the next line won't show any output\n",
    "repl.pprinter() = repl.pprinter().copy(defaultHeight = 0)"
   ]
  },
  {
   "cell_type": "code",
   "execution_count": 5,
   "metadata": {
    
   },
   "outputs": [
    {
     "data": {
      "text/plain": [
       "......"
      ]
     },
     "execution_count": 5,
     "metadata": {
      
     },
     "output_type": "execute_result"
    }
   ],
   "source": [
    "val display = py.module(\"IPython.display\")"
   ]
  },
  {
   "cell_type": "code",
   "execution_count": 6,
   "metadata": {
    
   },
   "outputs": [
    {
     "data": {
      "text/html": [
       "<b>hello</b>"
      ]
     },
     "metadata": {
      
     },
     "output_type": "display_data"
    }
   ],
   "source": [
    "display.HTML(\"<b>hello</b>\")"
   ]
  },
  {
   "cell_type": "code",
   "execution_count": 7,
   "metadata": {
    
   },
   "outputs": [
    {
     "data": {
      "text/latex": [
       "\\begin{eqnarray}\n",
       "\\nabla \\times \\vec{\\mathbf{B}} -\\, \\frac1c\\, \\frac{\\partial\\vec{\\mathbf{E}}}{\\partial t} & = \\frac{4\\pi}{c}\\vec{\\mathbf{j}} \\\\\n",
       "\\nabla \\cdot \\vec{\\mathbf{E}} & = 4 \\pi \\rho \\\\\n",
       "\\nabla \\times \\vec{\\mathbf{E}}\\, +\\, \\frac1c\\, \\frac{\\partial\\vec{\\mathbf{B}}}{\\partial t} & = \\vec{\\mathbf{0}} \\\\\n",
       "\\nabla \\cdot \\vec{\\mathbf{B}} & = 0 \n",
       "\\end{eqnarray}"
      ]
     },
     "metadata": {
      
     },
     "output_type": "display_data"
    }
   ],
   "source": [
    "display.Latex(\"\"\"\\begin{eqnarray}\n",
    "\\nabla \\times \\vec{\\mathbf{B}} -\\, \\frac1c\\, \\frac{\\partial\\vec{\\mathbf{E}}}{\\partial t} & = \\frac{4\\pi}{c}\\vec{\\mathbf{j}} \\\\\n",
    "\\nabla \\cdot \\vec{\\mathbf{E}} & = 4 \\pi \\rho \\\\\n",
    "\\nabla \\times \\vec{\\mathbf{E}}\\, +\\, \\frac1c\\, \\frac{\\partial\\vec{\\mathbf{B}}}{\\partial t} & = \\vec{\\mathbf{0}} \\\\\n",
    "\\nabla \\cdot \\vec{\\mathbf{B}} & = 0 \n",
    "\\end{eqnarray}\"\"\")\n"
   ]
  },
  {
   "cell_type": "code",
   "execution_count": 8,
   "metadata": {
    
   },
   "outputs": [
    {
     "data": {
      "text/latex": [
       "$\\displaystyle a = b + c$"
      ]
     },
     "metadata": {
      
     },
     "output_type": "display_data"
    }
   ],
   "source": [
    "display.Math(\"a = b + c\")"
   ]
  },
  {
   "cell_type": "code",
   "execution_count": 9,
   "metadata": {
    
   },
   "outputs": [
    {
     "data": {
      "text/markdown": [
       "\n",
       "# title\n",
       "## subsec\n",
       "foo\n"
      ]
     },
     "metadata": {
      
     },
     "output_type": "display_data"
    }
   ],
   "source": [
    "display.Markdown(\"\"\"\n",
    "# title\n",
    "## subsec\n",
    "foo\n",
    "\"\"\")"
   ]
  }
 ],
 "metadata": {
  "kernelspec": {
   "display_name": "Scala (sources)",
   "language": "scala",
   "name": "scala-debug"
  },
  "language_info": {
   "codemirror_mode": "text/x-scala",
   "file_extension": ".sc",
   "mimetype": "text/x-scala",
   "name": "scala",
   "nbconvert_exporter": "script",
   "version": "2.12.12"
  }
 },
 "nbformat": 4,
 "nbformat_minor": 4
}